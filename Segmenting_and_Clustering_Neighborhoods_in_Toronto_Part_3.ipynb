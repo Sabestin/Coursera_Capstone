{
 "cells": [
  {
   "cell_type": "markdown",
   "metadata": {},
   "source": [
    "# IBM Data Science Specialization Capstone\n",
    "This notebook is part of the IBM datascience capstone projects.\n",
    "\n",
    "## Segmenting and Clustering Neighborhoods in Toronto - Part 3"
   ]
  },
  {
   "cell_type": "markdown",
   "metadata": {},
   "source": [
    "In Part 1 of this project, we collected the Toronto neighborhoods data from a web page, converted it to a pandas dataframe, and cleaned and pre-processed it.\n",
    "\n",
    "In Part 2, we collected the latitude and logitude of each neighborhood and added it to our dataframe so that we can utilize the Foursquare location data.\n",
    "\n",
    "In this final part, we will explore and cluster the neighborhoods in Toronto."
   ]
  },
  {
   "cell_type": "markdown",
   "metadata": {},
   "source": [
    "### Install required packages"
   ]
  },
  {
   "cell_type": "code",
   "execution_count": 1,
   "metadata": {
    "scrolled": true
   },
   "outputs": [
    {
     "name": "stdout",
     "output_type": "stream",
     "text": [
      "Requirement already satisfied: pandas in /Users/robinson/opt/anaconda3/lib/python3.7/site-packages (1.0.1)\n",
      "Requirement already satisfied: pytz>=2017.2 in /Users/robinson/opt/anaconda3/lib/python3.7/site-packages (from pandas) (2019.3)\n",
      "Requirement already satisfied: python-dateutil>=2.6.1 in /Users/robinson/opt/anaconda3/lib/python3.7/site-packages (from pandas) (2.8.1)\n",
      "Requirement already satisfied: numpy>=1.13.3 in /Users/robinson/opt/anaconda3/lib/python3.7/site-packages (from pandas) (1.18.1)\n",
      "Requirement already satisfied: six>=1.5 in /Users/robinson/opt/anaconda3/lib/python3.7/site-packages (from python-dateutil>=2.6.1->pandas) (1.14.0)\n",
      "Requirement already satisfied: beautifulsoup4 in /Users/robinson/opt/anaconda3/lib/python3.7/site-packages (4.8.2)\n",
      "Requirement already satisfied: soupsieve>=1.2 in /Users/robinson/opt/anaconda3/lib/python3.7/site-packages (from beautifulsoup4) (1.9.5)\n",
      "Requirement already satisfied: requests in /Users/robinson/opt/anaconda3/lib/python3.7/site-packages (2.22.0)\n",
      "Requirement already satisfied: certifi>=2017.4.17 in /Users/robinson/opt/anaconda3/lib/python3.7/site-packages (from requests) (2019.11.28)\n",
      "Requirement already satisfied: chardet<3.1.0,>=3.0.2 in /Users/robinson/opt/anaconda3/lib/python3.7/site-packages (from requests) (3.0.4)\n",
      "Requirement already satisfied: urllib3!=1.25.0,!=1.25.1,<1.26,>=1.21.1 in /Users/robinson/opt/anaconda3/lib/python3.7/site-packages (from requests) (1.25.8)\n",
      "Requirement already satisfied: idna<2.9,>=2.5 in /Users/robinson/opt/anaconda3/lib/python3.7/site-packages (from requests) (2.8)\n",
      "Requirement already satisfied: geopy in /Users/robinson/opt/anaconda3/lib/python3.7/site-packages (2.0.0)\n",
      "Requirement already satisfied: geographiclib<2,>=1.49 in /Users/robinson/opt/anaconda3/lib/python3.7/site-packages (from geopy) (1.50)\n",
      "Requirement already satisfied: sklearn in /Users/robinson/opt/anaconda3/lib/python3.7/site-packages (0.0)\n",
      "Requirement already satisfied: scikit-learn in /Users/robinson/opt/anaconda3/lib/python3.7/site-packages (from sklearn) (0.22.1)\n",
      "Requirement already satisfied: scipy>=0.17.0 in /Users/robinson/opt/anaconda3/lib/python3.7/site-packages (from scikit-learn->sklearn) (1.4.1)\n",
      "Requirement already satisfied: joblib>=0.11 in /Users/robinson/opt/anaconda3/lib/python3.7/site-packages (from scikit-learn->sklearn) (0.14.1)\n",
      "Requirement already satisfied: numpy>=1.11.0 in /Users/robinson/opt/anaconda3/lib/python3.7/site-packages (from scikit-learn->sklearn) (1.18.1)\n",
      "Requirement already satisfied: folium in /Users/robinson/opt/anaconda3/lib/python3.7/site-packages (0.5.0)\n",
      "Requirement already satisfied: branca in /Users/robinson/opt/anaconda3/lib/python3.7/site-packages (from folium) (0.4.1)\n",
      "Requirement already satisfied: jinja2 in /Users/robinson/opt/anaconda3/lib/python3.7/site-packages (from folium) (2.11.1)\n",
      "Requirement already satisfied: requests in /Users/robinson/opt/anaconda3/lib/python3.7/site-packages (from folium) (2.22.0)\n",
      "Requirement already satisfied: six in /Users/robinson/opt/anaconda3/lib/python3.7/site-packages (from folium) (1.14.0)\n",
      "Requirement already satisfied: MarkupSafe>=0.23 in /Users/robinson/opt/anaconda3/lib/python3.7/site-packages (from jinja2->folium) (1.1.1)\n",
      "Requirement already satisfied: idna<2.9,>=2.5 in /Users/robinson/opt/anaconda3/lib/python3.7/site-packages (from requests->folium) (2.8)\n",
      "Requirement already satisfied: urllib3!=1.25.0,!=1.25.1,<1.26,>=1.21.1 in /Users/robinson/opt/anaconda3/lib/python3.7/site-packages (from requests->folium) (1.25.8)\n",
      "Requirement already satisfied: chardet<3.1.0,>=3.0.2 in /Users/robinson/opt/anaconda3/lib/python3.7/site-packages (from requests->folium) (3.0.4)\n",
      "Requirement already satisfied: certifi>=2017.4.17 in /Users/robinson/opt/anaconda3/lib/python3.7/site-packages (from requests->folium) (2019.11.28)\n",
      "Requirement already satisfied: matplotlib in /Users/robinson/opt/anaconda3/lib/python3.7/site-packages (3.1.3)\n",
      "Requirement already satisfied: pyparsing!=2.0.4,!=2.1.2,!=2.1.6,>=2.0.1 in /Users/robinson/opt/anaconda3/lib/python3.7/site-packages (from matplotlib) (2.4.6)\n",
      "Requirement already satisfied: python-dateutil>=2.1 in /Users/robinson/opt/anaconda3/lib/python3.7/site-packages (from matplotlib) (2.8.1)\n",
      "Requirement already satisfied: numpy>=1.11 in /Users/robinson/opt/anaconda3/lib/python3.7/site-packages (from matplotlib) (1.18.1)\n",
      "Requirement already satisfied: kiwisolver>=1.0.1 in /Users/robinson/opt/anaconda3/lib/python3.7/site-packages (from matplotlib) (1.1.0)\n",
      "Requirement already satisfied: cycler>=0.10 in /Users/robinson/opt/anaconda3/lib/python3.7/site-packages (from matplotlib) (0.10.0)\n",
      "Requirement already satisfied: six>=1.5 in /Users/robinson/opt/anaconda3/lib/python3.7/site-packages (from python-dateutil>=2.1->matplotlib) (1.14.0)\n",
      "Requirement already satisfied: setuptools in /Users/robinson/opt/anaconda3/lib/python3.7/site-packages (from kiwisolver>=1.0.1->matplotlib) (46.0.0.post20200309)\n"
     ]
    }
   ],
   "source": [
    "import sys\n",
    "!{sys.executable} -m pip install pandas\n",
    "!{sys.executable} -m pip install beautifulsoup4\n",
    "!{sys.executable} -m pip install requests\n",
    "!{sys.executable} -m pip install geopy\n",
    "!{sys.executable} -m pip install sklearn\n",
    "!{sys.executable} -m pip install folium\n",
    "!{sys.executable} -m pip install matplotlib"
   ]
  },
  {
   "cell_type": "markdown",
   "metadata": {},
   "source": [
    "### Import dependencies"
   ]
  },
  {
   "cell_type": "code",
   "execution_count": 2,
   "metadata": {},
   "outputs": [],
   "source": [
    "from bs4 import BeautifulSoup\n",
    "from geopy.geocoders import Nominatim\n",
    "from sklearn.cluster import KMeans\n",
    "import requests\n",
    "import pandas as pd\n",
    "from pandas.io.json import json_normalize\n",
    "import numpy as np\n",
    "import folium\n",
    "import matplotlib.cm as cm\n",
    "import matplotlib.colors as colors"
   ]
  },
  {
   "cell_type": "markdown",
   "metadata": {},
   "source": [
    "## Part 1 Revisited - Collect neighborhood data for Toronto and convert it into a pandas dataframe"
   ]
  },
  {
   "cell_type": "markdown",
   "metadata": {},
   "source": [
    "The data will be collected from Wikipedia page: https://en.wikipedia.org/wiki/List_of_postal_codes_of_Canada:_M\n",
    "\n",
    "This page contains a list of postal codes in Canada where the first letter is M."
   ]
  },
  {
   "cell_type": "code",
   "execution_count": 3,
   "metadata": {},
   "outputs": [],
   "source": [
    "# Get the HTML text from the wiki page\n",
    "wiki_url = 'https://en.wikipedia.org/wiki/List_of_postal_codes_of_Canada:_M'\n",
    "html_text = requests.get(wiki_url).text\n",
    "\n",
    "# Extract the table data using BeautifulSoup\n",
    "soup = BeautifulSoup(html_text)\n",
    "table = soup.find('table', attrs={'class':'wikitable sortable'})\n",
    "trs = table.find_all('tr')\n",
    "\n",
    "# Extract the text from all the table cells and add all rows\n",
    "# to a list of rows.\n",
    "rows = list()\n",
    "for tr in trs:\n",
    "    td = tr.find_all('td')\n",
    "    row = [ele.text.strip() for ele in td]\n",
    "    if row:\n",
    "        # Ignore empty rows with no 'td',\n",
    "        # applicable for the column headers row.\n",
    "        rows.append(row)\n",
    "        \n",
    "# Convert the data to a pandas dataframe with \n",
    "# columns 'PostalCode', 'Borough', and 'Neighborhood'.\n",
    "df = pd.DataFrame(rows,\n",
    "                  columns=['PostalCode', 'Borough', 'Neighborhood'])\n",
    "\n",
    "# Remove rows with column 'Not assigned' for column 'Borough'\n",
    "df = df[df.Borough != 'Not assigned']\n",
    "df.reset_index(inplace=True, drop=True)\n",
    "\n",
    "# If a cell has a borough but a Not assigned neighborhood, \n",
    "# then the neighborhood will be the same as the borough.\n",
    "# So, replace 'Neighborhood' columns with value as\n",
    "# 'Not assigned' with the value of its 'Borough'\n",
    "df['Neighborhood'] = df.apply(\n",
    "    lambda row: \n",
    "    row['Borough'] if row['Neighborhood'] == 'Not assigned' \n",
    "    else row['Neighborhood'],\n",
    "    axis=1)\n",
    "\n",
    "# More than one neighborhood can exist in one postal code area.\n",
    "# Combine rows with the same postal code into a single row.\n",
    "# For example, in the table on the Wikipedia page, M5A is \n",
    "# listed twice and has two neighborhoods: Harbourfront and\n",
    "# Regent Park. These two rows will be combined into one row\n",
    "# with the neighborhoods separated with a comma.\n",
    "df = df.groupby(['PostalCode', 'Borough'])['Neighborhood'].\\\n",
    "    apply(', '.join).to_frame()\n",
    "df.reset_index(inplace=True)\n"
   ]
  },
  {
   "cell_type": "code",
   "execution_count": 4,
   "metadata": {},
   "outputs": [
    {
     "data": {
      "text/html": [
       "<div>\n",
       "<style scoped>\n",
       "    .dataframe tbody tr th:only-of-type {\n",
       "        vertical-align: middle;\n",
       "    }\n",
       "\n",
       "    .dataframe tbody tr th {\n",
       "        vertical-align: top;\n",
       "    }\n",
       "\n",
       "    .dataframe thead th {\n",
       "        text-align: right;\n",
       "    }\n",
       "</style>\n",
       "<table border=\"1\" class=\"dataframe\">\n",
       "  <thead>\n",
       "    <tr style=\"text-align: right;\">\n",
       "      <th></th>\n",
       "      <th>PostalCode</th>\n",
       "      <th>Borough</th>\n",
       "      <th>Neighborhood</th>\n",
       "    </tr>\n",
       "  </thead>\n",
       "  <tbody>\n",
       "    <tr>\n",
       "      <th>0</th>\n",
       "      <td>M1B</td>\n",
       "      <td>Scarborough</td>\n",
       "      <td>Malvern, Rouge</td>\n",
       "    </tr>\n",
       "    <tr>\n",
       "      <th>1</th>\n",
       "      <td>M1C</td>\n",
       "      <td>Scarborough</td>\n",
       "      <td>Rouge Hill, Port Union, Highland Creek</td>\n",
       "    </tr>\n",
       "    <tr>\n",
       "      <th>2</th>\n",
       "      <td>M1E</td>\n",
       "      <td>Scarborough</td>\n",
       "      <td>Guildwood, Morningside, West Hill</td>\n",
       "    </tr>\n",
       "    <tr>\n",
       "      <th>3</th>\n",
       "      <td>M1G</td>\n",
       "      <td>Scarborough</td>\n",
       "      <td>Woburn</td>\n",
       "    </tr>\n",
       "    <tr>\n",
       "      <th>4</th>\n",
       "      <td>M1H</td>\n",
       "      <td>Scarborough</td>\n",
       "      <td>Cedarbrae</td>\n",
       "    </tr>\n",
       "    <tr>\n",
       "      <th>5</th>\n",
       "      <td>M1J</td>\n",
       "      <td>Scarborough</td>\n",
       "      <td>Scarborough Village</td>\n",
       "    </tr>\n",
       "    <tr>\n",
       "      <th>6</th>\n",
       "      <td>M1K</td>\n",
       "      <td>Scarborough</td>\n",
       "      <td>Kennedy Park, Ionview, East Birchmount Park</td>\n",
       "    </tr>\n",
       "    <tr>\n",
       "      <th>7</th>\n",
       "      <td>M1L</td>\n",
       "      <td>Scarborough</td>\n",
       "      <td>Golden Mile, Clairlea, Oakridge</td>\n",
       "    </tr>\n",
       "    <tr>\n",
       "      <th>8</th>\n",
       "      <td>M1M</td>\n",
       "      <td>Scarborough</td>\n",
       "      <td>Cliffside, Cliffcrest, Scarborough Village West</td>\n",
       "    </tr>\n",
       "    <tr>\n",
       "      <th>9</th>\n",
       "      <td>M1N</td>\n",
       "      <td>Scarborough</td>\n",
       "      <td>Birch Cliff, Cliffside West</td>\n",
       "    </tr>\n",
       "    <tr>\n",
       "      <th>10</th>\n",
       "      <td>M1P</td>\n",
       "      <td>Scarborough</td>\n",
       "      <td>Dorset Park, Wexford Heights, Scarborough Town...</td>\n",
       "    </tr>\n",
       "    <tr>\n",
       "      <th>11</th>\n",
       "      <td>M1R</td>\n",
       "      <td>Scarborough</td>\n",
       "      <td>Wexford, Maryvale</td>\n",
       "    </tr>\n",
       "  </tbody>\n",
       "</table>\n",
       "</div>"
      ],
      "text/plain": [
       "   PostalCode      Borough                                       Neighborhood\n",
       "0         M1B  Scarborough                                     Malvern, Rouge\n",
       "1         M1C  Scarborough             Rouge Hill, Port Union, Highland Creek\n",
       "2         M1E  Scarborough                  Guildwood, Morningside, West Hill\n",
       "3         M1G  Scarborough                                             Woburn\n",
       "4         M1H  Scarborough                                          Cedarbrae\n",
       "5         M1J  Scarborough                                Scarborough Village\n",
       "6         M1K  Scarborough        Kennedy Park, Ionview, East Birchmount Park\n",
       "7         M1L  Scarborough                    Golden Mile, Clairlea, Oakridge\n",
       "8         M1M  Scarborough    Cliffside, Cliffcrest, Scarborough Village West\n",
       "9         M1N  Scarborough                        Birch Cliff, Cliffside West\n",
       "10        M1P  Scarborough  Dorset Park, Wexford Heights, Scarborough Town...\n",
       "11        M1R  Scarborough                                  Wexford, Maryvale"
      ]
     },
     "execution_count": 4,
     "metadata": {},
     "output_type": "execute_result"
    }
   ],
   "source": [
    "df.head(12)"
   ]
  },
  {
   "cell_type": "code",
   "execution_count": 5,
   "metadata": {},
   "outputs": [
    {
     "name": "stdout",
     "output_type": "stream",
     "text": [
      "Dataframe shape:  (103, 3)\n"
     ]
    }
   ],
   "source": [
    "print(\"Dataframe shape: \", df.shape)"
   ]
  },
  {
   "cell_type": "markdown",
   "metadata": {},
   "source": [
    "## Part 2 Revisited - Add latitude and longitude data to the dataframe"
   ]
  },
  {
   "cell_type": "markdown",
   "metadata": {},
   "source": [
    "We will be using the CSV data at https://cocl.us/Geospatial_data to get the latitude and logitude information for all the postal codes.\n",
    "\n",
    "Once we have the data, it will be concatenated with our original dataframe."
   ]
  },
  {
   "cell_type": "code",
   "execution_count": 6,
   "metadata": {},
   "outputs": [],
   "source": [
    "# Read the CSV data to a pandas dataframe.\n",
    "geospatial_data = pd.read_csv('https://cocl.us/Geospatial_data')\n",
    "\n",
    "## Combine the two dataframes.\n",
    "\n",
    "# Concatenate the two dataframes using column \"PostalCode\" from 'df' and\n",
    "# \"Postal Code\" from 'geospatial_data'.\n",
    "df = pd.concat(\n",
    "    [df.set_index('PostalCode'), geospatial_data.set_index('Postal Code')],\n",
    "    axis=1, join='inner')\n",
    "\n",
    "# Postal code will now be the index, change it to a non-index \n",
    "# column and reset index.\n",
    "df.reset_index(inplace=True)\n",
    "\n",
    "# Rename the 'index' column to 'PostalCode'\n",
    "df.rename(columns={'index': 'PostalCode'}, inplace=True)\n"
   ]
  },
  {
   "cell_type": "code",
   "execution_count": 7,
   "metadata": {},
   "outputs": [
    {
     "data": {
      "text/html": [
       "<div>\n",
       "<style scoped>\n",
       "    .dataframe tbody tr th:only-of-type {\n",
       "        vertical-align: middle;\n",
       "    }\n",
       "\n",
       "    .dataframe tbody tr th {\n",
       "        vertical-align: top;\n",
       "    }\n",
       "\n",
       "    .dataframe thead th {\n",
       "        text-align: right;\n",
       "    }\n",
       "</style>\n",
       "<table border=\"1\" class=\"dataframe\">\n",
       "  <thead>\n",
       "    <tr style=\"text-align: right;\">\n",
       "      <th></th>\n",
       "      <th>PostalCode</th>\n",
       "      <th>Borough</th>\n",
       "      <th>Neighborhood</th>\n",
       "      <th>Latitude</th>\n",
       "      <th>Longitude</th>\n",
       "    </tr>\n",
       "  </thead>\n",
       "  <tbody>\n",
       "    <tr>\n",
       "      <th>0</th>\n",
       "      <td>M1B</td>\n",
       "      <td>Scarborough</td>\n",
       "      <td>Malvern, Rouge</td>\n",
       "      <td>43.806686</td>\n",
       "      <td>-79.194353</td>\n",
       "    </tr>\n",
       "    <tr>\n",
       "      <th>1</th>\n",
       "      <td>M1C</td>\n",
       "      <td>Scarborough</td>\n",
       "      <td>Rouge Hill, Port Union, Highland Creek</td>\n",
       "      <td>43.784535</td>\n",
       "      <td>-79.160497</td>\n",
       "    </tr>\n",
       "    <tr>\n",
       "      <th>2</th>\n",
       "      <td>M1E</td>\n",
       "      <td>Scarborough</td>\n",
       "      <td>Guildwood, Morningside, West Hill</td>\n",
       "      <td>43.763573</td>\n",
       "      <td>-79.188711</td>\n",
       "    </tr>\n",
       "    <tr>\n",
       "      <th>3</th>\n",
       "      <td>M1G</td>\n",
       "      <td>Scarborough</td>\n",
       "      <td>Woburn</td>\n",
       "      <td>43.770992</td>\n",
       "      <td>-79.216917</td>\n",
       "    </tr>\n",
       "    <tr>\n",
       "      <th>4</th>\n",
       "      <td>M1H</td>\n",
       "      <td>Scarborough</td>\n",
       "      <td>Cedarbrae</td>\n",
       "      <td>43.773136</td>\n",
       "      <td>-79.239476</td>\n",
       "    </tr>\n",
       "    <tr>\n",
       "      <th>5</th>\n",
       "      <td>M1J</td>\n",
       "      <td>Scarborough</td>\n",
       "      <td>Scarborough Village</td>\n",
       "      <td>43.744734</td>\n",
       "      <td>-79.239476</td>\n",
       "    </tr>\n",
       "    <tr>\n",
       "      <th>6</th>\n",
       "      <td>M1K</td>\n",
       "      <td>Scarborough</td>\n",
       "      <td>Kennedy Park, Ionview, East Birchmount Park</td>\n",
       "      <td>43.727929</td>\n",
       "      <td>-79.262029</td>\n",
       "    </tr>\n",
       "    <tr>\n",
       "      <th>7</th>\n",
       "      <td>M1L</td>\n",
       "      <td>Scarborough</td>\n",
       "      <td>Golden Mile, Clairlea, Oakridge</td>\n",
       "      <td>43.711112</td>\n",
       "      <td>-79.284577</td>\n",
       "    </tr>\n",
       "    <tr>\n",
       "      <th>8</th>\n",
       "      <td>M1M</td>\n",
       "      <td>Scarborough</td>\n",
       "      <td>Cliffside, Cliffcrest, Scarborough Village West</td>\n",
       "      <td>43.716316</td>\n",
       "      <td>-79.239476</td>\n",
       "    </tr>\n",
       "    <tr>\n",
       "      <th>9</th>\n",
       "      <td>M1N</td>\n",
       "      <td>Scarborough</td>\n",
       "      <td>Birch Cliff, Cliffside West</td>\n",
       "      <td>43.692657</td>\n",
       "      <td>-79.264848</td>\n",
       "    </tr>\n",
       "    <tr>\n",
       "      <th>10</th>\n",
       "      <td>M1P</td>\n",
       "      <td>Scarborough</td>\n",
       "      <td>Dorset Park, Wexford Heights, Scarborough Town...</td>\n",
       "      <td>43.757410</td>\n",
       "      <td>-79.273304</td>\n",
       "    </tr>\n",
       "    <tr>\n",
       "      <th>11</th>\n",
       "      <td>M1R</td>\n",
       "      <td>Scarborough</td>\n",
       "      <td>Wexford, Maryvale</td>\n",
       "      <td>43.750072</td>\n",
       "      <td>-79.295849</td>\n",
       "    </tr>\n",
       "  </tbody>\n",
       "</table>\n",
       "</div>"
      ],
      "text/plain": [
       "   PostalCode      Borough                                       Neighborhood  \\\n",
       "0         M1B  Scarborough                                     Malvern, Rouge   \n",
       "1         M1C  Scarborough             Rouge Hill, Port Union, Highland Creek   \n",
       "2         M1E  Scarborough                  Guildwood, Morningside, West Hill   \n",
       "3         M1G  Scarborough                                             Woburn   \n",
       "4         M1H  Scarborough                                          Cedarbrae   \n",
       "5         M1J  Scarborough                                Scarborough Village   \n",
       "6         M1K  Scarborough        Kennedy Park, Ionview, East Birchmount Park   \n",
       "7         M1L  Scarborough                    Golden Mile, Clairlea, Oakridge   \n",
       "8         M1M  Scarborough    Cliffside, Cliffcrest, Scarborough Village West   \n",
       "9         M1N  Scarborough                        Birch Cliff, Cliffside West   \n",
       "10        M1P  Scarborough  Dorset Park, Wexford Heights, Scarborough Town...   \n",
       "11        M1R  Scarborough                                  Wexford, Maryvale   \n",
       "\n",
       "     Latitude  Longitude  \n",
       "0   43.806686 -79.194353  \n",
       "1   43.784535 -79.160497  \n",
       "2   43.763573 -79.188711  \n",
       "3   43.770992 -79.216917  \n",
       "4   43.773136 -79.239476  \n",
       "5   43.744734 -79.239476  \n",
       "6   43.727929 -79.262029  \n",
       "7   43.711112 -79.284577  \n",
       "8   43.716316 -79.239476  \n",
       "9   43.692657 -79.264848  \n",
       "10  43.757410 -79.273304  \n",
       "11  43.750072 -79.295849  "
      ]
     },
     "execution_count": 7,
     "metadata": {},
     "output_type": "execute_result"
    }
   ],
   "source": [
    "df.head(12)"
   ]
  },
  {
   "cell_type": "code",
   "execution_count": 8,
   "metadata": {
    "scrolled": false
   },
   "outputs": [
    {
     "name": "stdout",
     "output_type": "stream",
     "text": [
      "Dataframe shape:  (103, 5)\n"
     ]
    }
   ],
   "source": [
    "print(\"Dataframe shape: \", df.shape)"
   ]
  },
  {
   "cell_type": "markdown",
   "metadata": {},
   "source": [
    "# Part 3 - Segment and Cluster Neighborhoods in Toronto\n",
    "\n",
    "## 1. Explore the data\n",
    "\n",
    "### a. Get Toronto's latitude and longitude using geopy"
   ]
  },
  {
   "cell_type": "code",
   "execution_count": 9,
   "metadata": {},
   "outputs": [
    {
     "name": "stdout",
     "output_type": "stream",
     "text": [
      "The geograpical coordinate of Toronto are 43.6534817, -79.3839347.\n"
     ]
    }
   ],
   "source": [
    "address = 'Toronto, Canada'\n",
    "geolocator = Nominatim(user_agent=\"toronto_explorer\")\n",
    "location = geolocator.geocode(address)\n",
    "print('The geograpical coordinate of Toronto are {}, {}.'.format(\n",
    "    location.latitude, location.longitude))\n"
   ]
  },
  {
   "cell_type": "markdown",
   "metadata": {},
   "source": [
    "### b. Create a map of Toronto using folium"
   ]
  },
  {
   "cell_type": "code",
   "execution_count": 10,
   "metadata": {
    "scrolled": true
   },
   "outputs": [
    {
     "data": {
      "text/html": [
       "<div style=\"width:100%;\"><div style=\"position:relative;width:100%;height:0;padding-bottom:60%;\"><span style=\"color:#565656\">Make this Notebook Trusted to load map: File -> Trust Notebook</span><iframe src=\"about:blank\" style=\"position:absolute;width:100%;height:100%;left:0;top:0;border:none !important;\" data-html=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 onload=\"this.contentDocument.open();this.contentDocument.write(atob(this.getAttribute('data-html')));this.contentDocument.close();\" allowfullscreen webkitallowfullscreen mozallowfullscreen></iframe></div></div>"
      ],
      "text/plain": [
       "<folium.folium.Map at 0x1a22340f90>"
      ]
     },
     "execution_count": 10,
     "metadata": {},
     "output_type": "execute_result"
    }
   ],
   "source": [
    "map_toronto = folium.Map(\n",
    "    location=[location.latitude, location.longitude],\n",
    "    zoom_start=10)\n",
    "map_toronto"
   ]
  },
  {
   "cell_type": "markdown",
   "metadata": {},
   "source": [
    "### c. Superimpose the neighborhoods on Toronto's map\n",
    "\n",
    "Markers are added to the map for each of the neighborhoods and each marker is labeled in the format: \"PostalCode (Neighborhood), Borough\""
   ]
  },
  {
   "cell_type": "code",
   "execution_count": 11,
   "metadata": {},
   "outputs": [
    {
     "data": {
      "text/html": [
       "<div style=\"width:100%;\"><div style=\"position:relative;width:100%;height:0;padding-bottom:60%;\"><span style=\"color:#565656\">Make this Notebook Trusted to load map: File -> Trust Notebook</span><iframe src=\"about:blank\" style=\"position:absolute;width:100%;height:100%;left:0;top:0;border:none !important;\" data-html=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 onload=\"this.contentDocument.open();this.contentDocument.write(atob(this.getAttribute('data-html')));this.contentDocument.close();\" allowfullscreen webkitallowfullscreen mozallowfullscreen></iframe></div></div>"
      ],
      "text/plain": [
       "<folium.folium.Map at 0x1a22340f90>"
      ]
     },
     "execution_count": 11,
     "metadata": {},
     "output_type": "execute_result"
    }
   ],
   "source": [
    "for _, row in df.iterrows():\n",
    "    label = '{} ({}), {}'.format(\n",
    "        row.PostalCode, row.Neighborhood, row.Borough)\n",
    "    label = folium.Popup(label, parse_html=True)\n",
    "    folium.CircleMarker(\n",
    "        [row.Latitude, row.Longitude],\n",
    "        radius=5,\n",
    "        popup=label,\n",
    "        color='blue',\n",
    "        fill=True,\n",
    "        fill_color='#3186cc',\n",
    "        fill_opacity=0.7,\n",
    "        parse_html=False).add_to(map_toronto) \n",
    "    \n",
    "map_toronto   "
   ]
  },
  {
   "cell_type": "markdown",
   "metadata": {},
   "source": [
    "### d. Limit data set to boroughs with term 'Toronto'\n",
    "\n",
    "**For this lab, we will just pick neighborhoods in boroughs that contain the word \"Toronto\" in them.**"
   ]
  },
  {
   "cell_type": "code",
   "execution_count": 12,
   "metadata": {},
   "outputs": [
    {
     "data": {
      "text/html": [
       "<div>\n",
       "<style scoped>\n",
       "    .dataframe tbody tr th:only-of-type {\n",
       "        vertical-align: middle;\n",
       "    }\n",
       "\n",
       "    .dataframe tbody tr th {\n",
       "        vertical-align: top;\n",
       "    }\n",
       "\n",
       "    .dataframe thead th {\n",
       "        text-align: right;\n",
       "    }\n",
       "</style>\n",
       "<table border=\"1\" class=\"dataframe\">\n",
       "  <thead>\n",
       "    <tr style=\"text-align: right;\">\n",
       "      <th></th>\n",
       "      <th>PostalCode</th>\n",
       "      <th>Borough</th>\n",
       "      <th>Neighborhood</th>\n",
       "      <th>Latitude</th>\n",
       "      <th>Longitude</th>\n",
       "    </tr>\n",
       "  </thead>\n",
       "  <tbody>\n",
       "    <tr>\n",
       "      <th>0</th>\n",
       "      <td>M4E</td>\n",
       "      <td>East Toronto</td>\n",
       "      <td>The Beaches</td>\n",
       "      <td>43.676357</td>\n",
       "      <td>-79.293031</td>\n",
       "    </tr>\n",
       "    <tr>\n",
       "      <th>1</th>\n",
       "      <td>M4K</td>\n",
       "      <td>East Toronto</td>\n",
       "      <td>The Danforth West, Riverdale</td>\n",
       "      <td>43.679557</td>\n",
       "      <td>-79.352188</td>\n",
       "    </tr>\n",
       "    <tr>\n",
       "      <th>2</th>\n",
       "      <td>M4L</td>\n",
       "      <td>East Toronto</td>\n",
       "      <td>India Bazaar, The Beaches West</td>\n",
       "      <td>43.668999</td>\n",
       "      <td>-79.315572</td>\n",
       "    </tr>\n",
       "    <tr>\n",
       "      <th>3</th>\n",
       "      <td>M4M</td>\n",
       "      <td>East Toronto</td>\n",
       "      <td>Studio District</td>\n",
       "      <td>43.659526</td>\n",
       "      <td>-79.340923</td>\n",
       "    </tr>\n",
       "    <tr>\n",
       "      <th>4</th>\n",
       "      <td>M4N</td>\n",
       "      <td>Central Toronto</td>\n",
       "      <td>Lawrence Park</td>\n",
       "      <td>43.728020</td>\n",
       "      <td>-79.388790</td>\n",
       "    </tr>\n",
       "    <tr>\n",
       "      <th>5</th>\n",
       "      <td>M4P</td>\n",
       "      <td>Central Toronto</td>\n",
       "      <td>Davisville North</td>\n",
       "      <td>43.712751</td>\n",
       "      <td>-79.390197</td>\n",
       "    </tr>\n",
       "    <tr>\n",
       "      <th>6</th>\n",
       "      <td>M4R</td>\n",
       "      <td>Central Toronto</td>\n",
       "      <td>North Toronto West,  Lawrence Park</td>\n",
       "      <td>43.715383</td>\n",
       "      <td>-79.405678</td>\n",
       "    </tr>\n",
       "    <tr>\n",
       "      <th>7</th>\n",
       "      <td>M4S</td>\n",
       "      <td>Central Toronto</td>\n",
       "      <td>Davisville</td>\n",
       "      <td>43.704324</td>\n",
       "      <td>-79.388790</td>\n",
       "    </tr>\n",
       "    <tr>\n",
       "      <th>8</th>\n",
       "      <td>M4T</td>\n",
       "      <td>Central Toronto</td>\n",
       "      <td>Moore Park, Summerhill East</td>\n",
       "      <td>43.689574</td>\n",
       "      <td>-79.383160</td>\n",
       "    </tr>\n",
       "    <tr>\n",
       "      <th>9</th>\n",
       "      <td>M4V</td>\n",
       "      <td>Central Toronto</td>\n",
       "      <td>Summerhill West, Rathnelly, South Hill, Forest...</td>\n",
       "      <td>43.686412</td>\n",
       "      <td>-79.400049</td>\n",
       "    </tr>\n",
       "    <tr>\n",
       "      <th>10</th>\n",
       "      <td>M4W</td>\n",
       "      <td>Downtown Toronto</td>\n",
       "      <td>Rosedale</td>\n",
       "      <td>43.679563</td>\n",
       "      <td>-79.377529</td>\n",
       "    </tr>\n",
       "    <tr>\n",
       "      <th>11</th>\n",
       "      <td>M4X</td>\n",
       "      <td>Downtown Toronto</td>\n",
       "      <td>St. James Town, Cabbagetown</td>\n",
       "      <td>43.667967</td>\n",
       "      <td>-79.367675</td>\n",
       "    </tr>\n",
       "    <tr>\n",
       "      <th>12</th>\n",
       "      <td>M4Y</td>\n",
       "      <td>Downtown Toronto</td>\n",
       "      <td>Church and Wellesley</td>\n",
       "      <td>43.665860</td>\n",
       "      <td>-79.383160</td>\n",
       "    </tr>\n",
       "    <tr>\n",
       "      <th>13</th>\n",
       "      <td>M5A</td>\n",
       "      <td>Downtown Toronto</td>\n",
       "      <td>Regent Park, Harbourfront</td>\n",
       "      <td>43.654260</td>\n",
       "      <td>-79.360636</td>\n",
       "    </tr>\n",
       "    <tr>\n",
       "      <th>14</th>\n",
       "      <td>M5B</td>\n",
       "      <td>Downtown Toronto</td>\n",
       "      <td>Garden District, Ryerson</td>\n",
       "      <td>43.657162</td>\n",
       "      <td>-79.378937</td>\n",
       "    </tr>\n",
       "    <tr>\n",
       "      <th>15</th>\n",
       "      <td>M5C</td>\n",
       "      <td>Downtown Toronto</td>\n",
       "      <td>St. James Town</td>\n",
       "      <td>43.651494</td>\n",
       "      <td>-79.375418</td>\n",
       "    </tr>\n",
       "    <tr>\n",
       "      <th>16</th>\n",
       "      <td>M5E</td>\n",
       "      <td>Downtown Toronto</td>\n",
       "      <td>Berczy Park</td>\n",
       "      <td>43.644771</td>\n",
       "      <td>-79.373306</td>\n",
       "    </tr>\n",
       "    <tr>\n",
       "      <th>17</th>\n",
       "      <td>M5G</td>\n",
       "      <td>Downtown Toronto</td>\n",
       "      <td>Central Bay Street</td>\n",
       "      <td>43.657952</td>\n",
       "      <td>-79.387383</td>\n",
       "    </tr>\n",
       "    <tr>\n",
       "      <th>18</th>\n",
       "      <td>M5H</td>\n",
       "      <td>Downtown Toronto</td>\n",
       "      <td>Richmond, Adelaide, King</td>\n",
       "      <td>43.650571</td>\n",
       "      <td>-79.384568</td>\n",
       "    </tr>\n",
       "    <tr>\n",
       "      <th>19</th>\n",
       "      <td>M5J</td>\n",
       "      <td>Downtown Toronto</td>\n",
       "      <td>Harbourfront East, Union Station, Toronto Islands</td>\n",
       "      <td>43.640816</td>\n",
       "      <td>-79.381752</td>\n",
       "    </tr>\n",
       "    <tr>\n",
       "      <th>20</th>\n",
       "      <td>M5K</td>\n",
       "      <td>Downtown Toronto</td>\n",
       "      <td>Toronto Dominion Centre, Design Exchange</td>\n",
       "      <td>43.647177</td>\n",
       "      <td>-79.381576</td>\n",
       "    </tr>\n",
       "    <tr>\n",
       "      <th>21</th>\n",
       "      <td>M5L</td>\n",
       "      <td>Downtown Toronto</td>\n",
       "      <td>Commerce Court, Victoria Hotel</td>\n",
       "      <td>43.648198</td>\n",
       "      <td>-79.379817</td>\n",
       "    </tr>\n",
       "    <tr>\n",
       "      <th>22</th>\n",
       "      <td>M5N</td>\n",
       "      <td>Central Toronto</td>\n",
       "      <td>Roselawn</td>\n",
       "      <td>43.711695</td>\n",
       "      <td>-79.416936</td>\n",
       "    </tr>\n",
       "    <tr>\n",
       "      <th>23</th>\n",
       "      <td>M5P</td>\n",
       "      <td>Central Toronto</td>\n",
       "      <td>Forest Hill North &amp; West, Forest Hill Road Park</td>\n",
       "      <td>43.696948</td>\n",
       "      <td>-79.411307</td>\n",
       "    </tr>\n",
       "    <tr>\n",
       "      <th>24</th>\n",
       "      <td>M5R</td>\n",
       "      <td>Central Toronto</td>\n",
       "      <td>The Annex, North Midtown, Yorkville</td>\n",
       "      <td>43.672710</td>\n",
       "      <td>-79.405678</td>\n",
       "    </tr>\n",
       "    <tr>\n",
       "      <th>25</th>\n",
       "      <td>M5S</td>\n",
       "      <td>Downtown Toronto</td>\n",
       "      <td>University of Toronto, Harbord</td>\n",
       "      <td>43.662696</td>\n",
       "      <td>-79.400049</td>\n",
       "    </tr>\n",
       "    <tr>\n",
       "      <th>26</th>\n",
       "      <td>M5T</td>\n",
       "      <td>Downtown Toronto</td>\n",
       "      <td>Kensington Market, Chinatown, Grange Park</td>\n",
       "      <td>43.653206</td>\n",
       "      <td>-79.400049</td>\n",
       "    </tr>\n",
       "    <tr>\n",
       "      <th>27</th>\n",
       "      <td>M5V</td>\n",
       "      <td>Downtown Toronto</td>\n",
       "      <td>CN Tower, King and Spadina, Railway Lands, Har...</td>\n",
       "      <td>43.628947</td>\n",
       "      <td>-79.394420</td>\n",
       "    </tr>\n",
       "    <tr>\n",
       "      <th>28</th>\n",
       "      <td>M5W</td>\n",
       "      <td>Downtown Toronto</td>\n",
       "      <td>Stn A PO Boxes</td>\n",
       "      <td>43.646435</td>\n",
       "      <td>-79.374846</td>\n",
       "    </tr>\n",
       "    <tr>\n",
       "      <th>29</th>\n",
       "      <td>M5X</td>\n",
       "      <td>Downtown Toronto</td>\n",
       "      <td>First Canadian Place, Underground city</td>\n",
       "      <td>43.648429</td>\n",
       "      <td>-79.382280</td>\n",
       "    </tr>\n",
       "    <tr>\n",
       "      <th>30</th>\n",
       "      <td>M6G</td>\n",
       "      <td>Downtown Toronto</td>\n",
       "      <td>Christie</td>\n",
       "      <td>43.669542</td>\n",
       "      <td>-79.422564</td>\n",
       "    </tr>\n",
       "    <tr>\n",
       "      <th>31</th>\n",
       "      <td>M6H</td>\n",
       "      <td>West Toronto</td>\n",
       "      <td>Dufferin, Dovercourt Village</td>\n",
       "      <td>43.669005</td>\n",
       "      <td>-79.442259</td>\n",
       "    </tr>\n",
       "    <tr>\n",
       "      <th>32</th>\n",
       "      <td>M6J</td>\n",
       "      <td>West Toronto</td>\n",
       "      <td>Little Portugal, Trinity</td>\n",
       "      <td>43.647927</td>\n",
       "      <td>-79.419750</td>\n",
       "    </tr>\n",
       "    <tr>\n",
       "      <th>33</th>\n",
       "      <td>M6K</td>\n",
       "      <td>West Toronto</td>\n",
       "      <td>Brockton, Parkdale Village, Exhibition Place</td>\n",
       "      <td>43.636847</td>\n",
       "      <td>-79.428191</td>\n",
       "    </tr>\n",
       "    <tr>\n",
       "      <th>34</th>\n",
       "      <td>M6P</td>\n",
       "      <td>West Toronto</td>\n",
       "      <td>High Park, The Junction South</td>\n",
       "      <td>43.661608</td>\n",
       "      <td>-79.464763</td>\n",
       "    </tr>\n",
       "    <tr>\n",
       "      <th>35</th>\n",
       "      <td>M6R</td>\n",
       "      <td>West Toronto</td>\n",
       "      <td>Parkdale, Roncesvalles</td>\n",
       "      <td>43.648960</td>\n",
       "      <td>-79.456325</td>\n",
       "    </tr>\n",
       "    <tr>\n",
       "      <th>36</th>\n",
       "      <td>M6S</td>\n",
       "      <td>West Toronto</td>\n",
       "      <td>Runnymede, Swansea</td>\n",
       "      <td>43.651571</td>\n",
       "      <td>-79.484450</td>\n",
       "    </tr>\n",
       "    <tr>\n",
       "      <th>37</th>\n",
       "      <td>M7A</td>\n",
       "      <td>Downtown Toronto</td>\n",
       "      <td>Queen's Park, Ontario Provincial Government</td>\n",
       "      <td>43.662301</td>\n",
       "      <td>-79.389494</td>\n",
       "    </tr>\n",
       "    <tr>\n",
       "      <th>38</th>\n",
       "      <td>M7Y</td>\n",
       "      <td>East Toronto</td>\n",
       "      <td>Business reply mail Processing Centre, South C...</td>\n",
       "      <td>43.662744</td>\n",
       "      <td>-79.321558</td>\n",
       "    </tr>\n",
       "  </tbody>\n",
       "</table>\n",
       "</div>"
      ],
      "text/plain": [
       "   PostalCode           Borough  \\\n",
       "0         M4E      East Toronto   \n",
       "1         M4K      East Toronto   \n",
       "2         M4L      East Toronto   \n",
       "3         M4M      East Toronto   \n",
       "4         M4N   Central Toronto   \n",
       "5         M4P   Central Toronto   \n",
       "6         M4R   Central Toronto   \n",
       "7         M4S   Central Toronto   \n",
       "8         M4T   Central Toronto   \n",
       "9         M4V   Central Toronto   \n",
       "10        M4W  Downtown Toronto   \n",
       "11        M4X  Downtown Toronto   \n",
       "12        M4Y  Downtown Toronto   \n",
       "13        M5A  Downtown Toronto   \n",
       "14        M5B  Downtown Toronto   \n",
       "15        M5C  Downtown Toronto   \n",
       "16        M5E  Downtown Toronto   \n",
       "17        M5G  Downtown Toronto   \n",
       "18        M5H  Downtown Toronto   \n",
       "19        M5J  Downtown Toronto   \n",
       "20        M5K  Downtown Toronto   \n",
       "21        M5L  Downtown Toronto   \n",
       "22        M5N   Central Toronto   \n",
       "23        M5P   Central Toronto   \n",
       "24        M5R   Central Toronto   \n",
       "25        M5S  Downtown Toronto   \n",
       "26        M5T  Downtown Toronto   \n",
       "27        M5V  Downtown Toronto   \n",
       "28        M5W  Downtown Toronto   \n",
       "29        M5X  Downtown Toronto   \n",
       "30        M6G  Downtown Toronto   \n",
       "31        M6H      West Toronto   \n",
       "32        M6J      West Toronto   \n",
       "33        M6K      West Toronto   \n",
       "34        M6P      West Toronto   \n",
       "35        M6R      West Toronto   \n",
       "36        M6S      West Toronto   \n",
       "37        M7A  Downtown Toronto   \n",
       "38        M7Y      East Toronto   \n",
       "\n",
       "                                         Neighborhood   Latitude  Longitude  \n",
       "0                                         The Beaches  43.676357 -79.293031  \n",
       "1                        The Danforth West, Riverdale  43.679557 -79.352188  \n",
       "2                      India Bazaar, The Beaches West  43.668999 -79.315572  \n",
       "3                                     Studio District  43.659526 -79.340923  \n",
       "4                                       Lawrence Park  43.728020 -79.388790  \n",
       "5                                    Davisville North  43.712751 -79.390197  \n",
       "6                  North Toronto West,  Lawrence Park  43.715383 -79.405678  \n",
       "7                                          Davisville  43.704324 -79.388790  \n",
       "8                         Moore Park, Summerhill East  43.689574 -79.383160  \n",
       "9   Summerhill West, Rathnelly, South Hill, Forest...  43.686412 -79.400049  \n",
       "10                                           Rosedale  43.679563 -79.377529  \n",
       "11                        St. James Town, Cabbagetown  43.667967 -79.367675  \n",
       "12                               Church and Wellesley  43.665860 -79.383160  \n",
       "13                          Regent Park, Harbourfront  43.654260 -79.360636  \n",
       "14                           Garden District, Ryerson  43.657162 -79.378937  \n",
       "15                                     St. James Town  43.651494 -79.375418  \n",
       "16                                        Berczy Park  43.644771 -79.373306  \n",
       "17                                 Central Bay Street  43.657952 -79.387383  \n",
       "18                           Richmond, Adelaide, King  43.650571 -79.384568  \n",
       "19  Harbourfront East, Union Station, Toronto Islands  43.640816 -79.381752  \n",
       "20           Toronto Dominion Centre, Design Exchange  43.647177 -79.381576  \n",
       "21                     Commerce Court, Victoria Hotel  43.648198 -79.379817  \n",
       "22                                           Roselawn  43.711695 -79.416936  \n",
       "23    Forest Hill North & West, Forest Hill Road Park  43.696948 -79.411307  \n",
       "24                The Annex, North Midtown, Yorkville  43.672710 -79.405678  \n",
       "25                     University of Toronto, Harbord  43.662696 -79.400049  \n",
       "26          Kensington Market, Chinatown, Grange Park  43.653206 -79.400049  \n",
       "27  CN Tower, King and Spadina, Railway Lands, Har...  43.628947 -79.394420  \n",
       "28                                     Stn A PO Boxes  43.646435 -79.374846  \n",
       "29             First Canadian Place, Underground city  43.648429 -79.382280  \n",
       "30                                           Christie  43.669542 -79.422564  \n",
       "31                       Dufferin, Dovercourt Village  43.669005 -79.442259  \n",
       "32                           Little Portugal, Trinity  43.647927 -79.419750  \n",
       "33       Brockton, Parkdale Village, Exhibition Place  43.636847 -79.428191  \n",
       "34                      High Park, The Junction South  43.661608 -79.464763  \n",
       "35                             Parkdale, Roncesvalles  43.648960 -79.456325  \n",
       "36                                 Runnymede, Swansea  43.651571 -79.484450  \n",
       "37        Queen's Park, Ontario Provincial Government  43.662301 -79.389494  \n",
       "38  Business reply mail Processing Centre, South C...  43.662744 -79.321558  "
      ]
     },
     "execution_count": 12,
     "metadata": {},
     "output_type": "execute_result"
    }
   ],
   "source": [
    "# Create dataframe with boroughs containing the term 'Toronto'\n",
    "toronto_data = df[df.Borough.str.contains('Toronto')]\n",
    "toronto_data.reset_index(inplace=True, drop=True)\n",
    "toronto_data"
   ]
  },
  {
   "cell_type": "code",
   "execution_count": 13,
   "metadata": {},
   "outputs": [
    {
     "data": {
      "text/plain": [
       "(39, 5)"
      ]
     },
     "execution_count": 13,
     "metadata": {},
     "output_type": "execute_result"
    }
   ],
   "source": [
    "toronto_data.shape"
   ]
  },
  {
   "cell_type": "markdown",
   "metadata": {},
   "source": [
    "So, there are 38 neighborhoods with boroughs containing the term 'Toronto'.\n",
    "\n",
    "Let us visualize these on Toronto's map."
   ]
  },
  {
   "cell_type": "code",
   "execution_count": 14,
   "metadata": {},
   "outputs": [
    {
     "data": {
      "text/html": [
       "<div style=\"width:100%;\"><div style=\"position:relative;width:100%;height:0;padding-bottom:60%;\"><span style=\"color:#565656\">Make this Notebook Trusted to load map: File -> Trust Notebook</span><iframe src=\"about:blank\" style=\"position:absolute;width:100%;height:100%;left:0;top:0;border:none !important;\" data-html=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 onload=\"this.contentDocument.open();this.contentDocument.write(atob(this.getAttribute('data-html')));this.contentDocument.close();\" allowfullscreen webkitallowfullscreen mozallowfullscreen></iframe></div></div>"
      ],
      "text/plain": [
       "<folium.folium.Map at 0x1a225d2650>"
      ]
     },
     "execution_count": 14,
     "metadata": {},
     "output_type": "execute_result"
    }
   ],
   "source": [
    "# Create a map instance\n",
    "map_toronto = folium.Map(\n",
    "    location=[location.latitude, location.longitude],\n",
    "    zoom_start=11)\n",
    "\n",
    "# Add markers for all 38 neighborhoods\n",
    "for _, row in toronto_data.iterrows():\n",
    "    label = '{} ({}), {}'.format(\n",
    "        row.PostalCode, row.Neighborhood, row.Borough)\n",
    "    label = folium.Popup(label, parse_html=True)\n",
    "    folium.CircleMarker(\n",
    "        [row.Latitude, row.Longitude],\n",
    "        radius=5,\n",
    "        popup=label,\n",
    "        color='blue',\n",
    "        fill=True,\n",
    "        fill_color='#3186cc',\n",
    "        fill_opacity=0.7,\n",
    "        parse_html=False).add_to(map_toronto) \n",
    "    \n",
    "map_toronto"
   ]
  },
  {
   "cell_type": "markdown",
   "metadata": {},
   "source": [
    "### e. Define Foursquare crendentials\n",
    "\n",
    "To avoid exposing the credentials, I have saved the client ID and secret in file \"config.py\" and placed it alongside this notebook."
   ]
  },
  {
   "cell_type": "code",
   "execution_count": 15,
   "metadata": {},
   "outputs": [
    {
     "ename": "ModuleNotFoundError",
     "evalue": "No module named 'config'",
     "output_type": "error",
     "traceback": [
      "\u001b[0;31m---------------------------------------------------------------------------\u001b[0m",
      "\u001b[0;31mModuleNotFoundError\u001b[0m                       Traceback (most recent call last)",
      "\u001b[0;32m<ipython-input-15-d830ed963984>\u001b[0m in \u001b[0;36m<module>\u001b[0;34m\u001b[0m\n\u001b[0;32m----> 1\u001b[0;31m \u001b[0;32mfrom\u001b[0m \u001b[0mconfig\u001b[0m \u001b[0;32mimport\u001b[0m \u001b[0mconfig\u001b[0m\u001b[0;34m\u001b[0m\u001b[0;34m\u001b[0m\u001b[0m\n\u001b[0m\u001b[1;32m      2\u001b[0m \u001b[0;34m\u001b[0m\u001b[0m\n\u001b[1;32m      3\u001b[0m \u001b[0mCLIENT_ID\u001b[0m \u001b[0;34m=\u001b[0m \u001b[0mconfig\u001b[0m\u001b[0;34m[\u001b[0m\u001b[0;34m'CLIENT_ID'\u001b[0m\u001b[0;34m]\u001b[0m\u001b[0;34m\u001b[0m\u001b[0;34m\u001b[0m\u001b[0m\n\u001b[1;32m      4\u001b[0m \u001b[0mCLIENT_SECRET\u001b[0m \u001b[0;34m=\u001b[0m \u001b[0mconfig\u001b[0m\u001b[0;34m[\u001b[0m\u001b[0;34m'CLIENT_SECRET'\u001b[0m\u001b[0;34m]\u001b[0m\u001b[0;34m\u001b[0m\u001b[0;34m\u001b[0m\u001b[0m\n\u001b[1;32m      5\u001b[0m \u001b[0mVERSION\u001b[0m \u001b[0;34m=\u001b[0m \u001b[0;34m'20190601'\u001b[0m\u001b[0;34m\u001b[0m\u001b[0;34m\u001b[0m\u001b[0m\n",
      "\u001b[0;31mModuleNotFoundError\u001b[0m: No module named 'config'"
     ]
    }
   ],
   "source": [
    "from config import config\n",
    "\n",
    "CLIENT_ID = config['CLIENT_ID']\n",
    "CLIENT_SECRET = config['CLIENT_SECRET']\n",
    "VERSION = '20190601'"
   ]
  },
  {
   "cell_type": "markdown",
   "metadata": {},
   "source": [
    "### f. Explore a neighborhood in Toronto\n",
    "\n",
    "Now let us explore the first neighborhood in our dataframe.\n",
    "\n",
    "Get the first neighborhood's name, latitude and longitude."
   ]
  },
  {
   "cell_type": "code",
   "execution_count": null,
   "metadata": {},
   "outputs": [],
   "source": [
    "neighborhood_name = toronto_data.loc[0, 'Neighborhood']\n",
    "neighborhood_latitude = toronto_data.loc[0, 'Latitude']\n",
    "neighborhood_longitude = toronto_data.loc[0, 'Longitude']\n",
    "\n",
    "print(\"Latitude and longitude of neighborhood '{}' are [{}, {}]\".format(\n",
    "    neighborhood_name, neighborhood_latitude, neighborhood_longitude))"
   ]
  },
  {
   "cell_type": "markdown",
   "metadata": {},
   "source": [
    "**Get the top 100 venues in 'The Beaches' within a radius of 500 meters.**"
   ]
  },
  {
   "cell_type": "code",
   "execution_count": null,
   "metadata": {},
   "outputs": [],
   "source": [
    "# Construct the URL\n",
    "limit = 100\n",
    "radius = 500\n",
    "explore_url_prefix = 'https://api.foursquare.com/v2/venues/explore'\n",
    "url = '{}?&client_id={}&client_secret={}&v={}&ll={},{}&radius={}&limit={}'.format(\n",
    "    explore_url_prefix, CLIENT_ID, CLIENT_SECRET, VERSION, \n",
    "    neighborhood_latitude, neighborhood_longitude, radius, limit)"
   ]
  },
  {
   "cell_type": "code",
   "execution_count": null,
   "metadata": {},
   "outputs": [],
   "source": [
    "# Get the venues.\n",
    "results = requests.get(url).json()\n",
    "results"
   ]
  },
  {
   "cell_type": "code",
   "execution_count": null,
   "metadata": {},
   "outputs": [],
   "source": [
    "# Explore the venues\n",
    "venues = results['response']['groups'][0]['items']\n",
    "venues"
   ]
  },
  {
   "cell_type": "code",
   "execution_count": null,
   "metadata": {},
   "outputs": [],
   "source": [
    "# Normalize the JSON response\n",
    "neighborhood_venues = json_normalize(venues)\n",
    "neighborhood_venues"
   ]
  },
  {
   "cell_type": "markdown",
   "metadata": {},
   "source": [
    "This neighborhood only seems to have 4 venues. Let us go ahead and explore it further."
   ]
  },
  {
   "cell_type": "code",
   "execution_count": null,
   "metadata": {},
   "outputs": [],
   "source": [
    "# Filter out the venue name, category, latitude and logitude.\n",
    "venue_columns = ['venue.name', 'venue.categories', 'venue.location.lat', 'venue.location.lng']\n",
    "neighborhood_venues = neighborhood_venues.loc[:, venue_columns]\n",
    "neighborhood_venues\n"
   ]
  },
  {
   "cell_type": "code",
   "execution_count": null,
   "metadata": {},
   "outputs": [],
   "source": [
    "# Change the column names to just the last part after the '.'.\n",
    "neighborhood_venues.columns = [column.split(\".\")[-1] for column in neighborhood_venues.columns]\n",
    "neighborhood_venues\n"
   ]
  },
  {
   "cell_type": "code",
   "execution_count": null,
   "metadata": {},
   "outputs": [],
   "source": [
    "# Extract the category names from a row.\n",
    "# We will get the first item in the categories list and then get its name.\n",
    "\n",
    "def get_category(row):\n",
    "    categories_list = row['categories']\n",
    "    if categories_list:\n",
    "        return categories_list[0]['name']\n",
    "    return None"
   ]
  },
  {
   "cell_type": "code",
   "execution_count": null,
   "metadata": {},
   "outputs": [],
   "source": [
    "# Replace the values in categories column with the first catogory name.\n",
    "neighborhood_venues['categories'] = neighborhood_venues.apply(get_category, axis=1)\n",
    "neighborhood_venues\n"
   ]
  },
  {
   "cell_type": "markdown",
   "metadata": {},
   "source": [
    "### g. Explore neighborhoods in Toronto\n",
    "\n",
    "Now we will explore all the neighborhoods in our dataframe. We will repeat the process that we did for 'The Beaches' neighborhood in the previous section."
   ]
  },
  {
   "cell_type": "code",
   "execution_count": null,
   "metadata": {},
   "outputs": [],
   "source": [
    "venues_list = list()\n",
    "\n",
    "for name, lat, lng in zip(toronto_data['Neighborhood'], toronto_data['Latitude'], toronto_data['Longitude']):\n",
    "    print(\"Collecting venues for neighborhood:\", name)\n",
    "    \n",
    "    # Create API request URL\n",
    "    limit = 100\n",
    "    radius = 500\n",
    "    explore_url_prefix = 'https://api.foursquare.com/v2/venues/explore'\n",
    "    url = '{}?&client_id={}&client_secret={}&v={}&ll={},{}&radius={}&limit={}'.format(\n",
    "        explore_url_prefix, CLIENT_ID, CLIENT_SECRET, VERSION, \n",
    "        lat, lng, radius, limit)\n",
    "    \n",
    "    # Make the request\n",
    "    neighborhood_venues = requests.get(url).json()[\"response\"]['groups'][0]['items']\n",
    "    \n",
    "    # Add relevant info to venues_list\n",
    "    venues_list.extend([(\n",
    "        name, lat, lng,\n",
    "        v['venue']['name'], \n",
    "        v['venue']['location']['lat'], \n",
    "        v['venue']['location']['lng'],  \n",
    "        v['venue']['categories'][0]['name']) for v in neighborhood_venues])\n",
    "\n",
    "print(\"Done\")   "
   ]
  },
  {
   "cell_type": "code",
   "execution_count": null,
   "metadata": {},
   "outputs": [],
   "source": [
    "# Let us see how many venues we have got.\n",
    "len(venues_list)"
   ]
  },
  {
   "cell_type": "code",
   "execution_count": null,
   "metadata": {},
   "outputs": [],
   "source": [
    "# Convert the venues_list to a dataframe.\n",
    "toronto_venues = pd.DataFrame(venues_list)\n",
    "toronto_venues.columns = [\n",
    "    'Neighborhood', 'Neighborhood Latitude', 'Neighborhood Longitude', \n",
    "    'Venue', 'Venue Latitude', 'Venue Longitude', 'Venue Category']"
   ]
  },
  {
   "cell_type": "code",
   "execution_count": null,
   "metadata": {},
   "outputs": [],
   "source": [
    "print(toronto_venues.shape)\n",
    "toronto_venues.head()"
   ]
  },
  {
   "cell_type": "markdown",
   "metadata": {},
   "source": [
    "Let us check the number of venues in each neighborhood."
   ]
  },
  {
   "cell_type": "code",
   "execution_count": null,
   "metadata": {},
   "outputs": [],
   "source": [
    "toronto_venues.groupby('Neighborhood').count()"
   ]
  },
  {
   "cell_type": "markdown",
   "metadata": {},
   "source": [
    "Let us find how many unique venue categories we have."
   ]
  },
  {
   "cell_type": "code",
   "execution_count": null,
   "metadata": {},
   "outputs": [],
   "source": [
    "print('There are {} uniques categories'.format(\n",
    "    len(toronto_venues['Venue Category'].unique())))\n"
   ]
  },
  {
   "cell_type": "markdown",
   "metadata": {},
   "source": [
    "## 2. Analyze each neighborhood"
   ]
  },
  {
   "cell_type": "code",
   "execution_count": null,
   "metadata": {},
   "outputs": [],
   "source": [
    "# One hot encoding\n",
    "toronto_onehot = pd.get_dummies(toronto_venues[['Venue Category']], prefix=\"\", prefix_sep=\"\")\n",
    "toronto_onehot.head()\n"
   ]
  },
  {
   "cell_type": "code",
   "execution_count": null,
   "metadata": {},
   "outputs": [],
   "source": [
    "# Add neighborhood column back to dataframe as NeighborhoodName\n",
    "toronto_onehot.insert(0, 'NeighborhoodName', toronto_venues['Neighborhood']) \n",
    "toronto_onehot.head()\n"
   ]
  },
  {
   "cell_type": "code",
   "execution_count": null,
   "metadata": {},
   "outputs": [],
   "source": [
    "toronto_onehot.shape"
   ]
  },
  {
   "cell_type": "code",
   "execution_count": null,
   "metadata": {},
   "outputs": [],
   "source": [
    "# Check the size of this dataframe.\n",
    "venues_count, categories_count = toronto_onehot.shape\n",
    "print(\"So we have {} different venues and {} venue categories.\".format(\n",
    "    venues_count, categories_count))"
   ]
  },
  {
   "cell_type": "markdown",
   "metadata": {},
   "source": [
    "#### Now we will group the rows by neighborhood name and by calculating the mean of the frequency of occurence of each category."
   ]
  },
  {
   "cell_type": "code",
   "execution_count": null,
   "metadata": {},
   "outputs": [],
   "source": [
    "toronto_grouped = toronto_onehot.groupby('NeighborhoodName').mean().reset_index()\n",
    "toronto_grouped\n"
   ]
  },
  {
   "cell_type": "markdown",
   "metadata": {},
   "source": [
    "The dataframe has 38 rows and 238 columns, which is as expected,i.e., 38 neighborhoods and 238 categories."
   ]
  },
  {
   "cell_type": "markdown",
   "metadata": {},
   "source": [
    "Now we will print each of the neighborhoods with the top 5 most common venues in them"
   ]
  },
  {
   "cell_type": "code",
   "execution_count": null,
   "metadata": {},
   "outputs": [],
   "source": [
    "num_top_venues = 5\n",
    "for neighborhood in toronto_grouped['NeighborhoodName']:\n",
    "    print(\"------{}------\".format(neighborhood))\n",
    "    temp = toronto_grouped[toronto_grouped['NeighborhoodName'] == neighborhood].T.reset_index()\n",
    "    temp.columns = ['venue','freq']\n",
    "    temp = temp.iloc[1:]\n",
    "    temp['freq'] = temp['freq'].astype(float)\n",
    "    temp = temp.round({'freq': 2})\n",
    "    print(temp.sort_values('freq', ascending=False).reset_index(drop=True).head(num_top_venues))\n",
    "    print('\\n')"
   ]
  },
  {
   "cell_type": "markdown",
   "metadata": {},
   "source": [
    "#### Next we will create a pandas dataframe with the top 10 most common venues in each neighborhood\n",
    "\n",
    "Function to sort venues in descending order of their frequency."
   ]
  },
  {
   "cell_type": "code",
   "execution_count": null,
   "metadata": {},
   "outputs": [],
   "source": [
    "def return_most_common_venues(row, num_top_venues):\n",
    "    row_categories = row.iloc[1:]\n",
    "    row_categories_sorted = row_categories.sort_values(ascending=False)\n",
    "    \n",
    "    return row_categories_sorted.index.values[0:num_top_venues]"
   ]
  },
  {
   "cell_type": "markdown",
   "metadata": {},
   "source": [
    "Now we will create the dataframe."
   ]
  },
  {
   "cell_type": "code",
   "execution_count": null,
   "metadata": {},
   "outputs": [],
   "source": [
    "num_top_venues = 10\n",
    "\n",
    "indicators = ['st', 'nd', 'rd']\n",
    "\n",
    "# create columns according to number of top venues\n",
    "columns = ['Neighborhood']\n",
    "for ind in np.arange(num_top_venues):\n",
    "    try:\n",
    "        columns.append('{}{} Most Common Venue'.format(ind+1, indicators[ind]))\n",
    "    except:\n",
    "        columns.append('{}th Most Common Venue'.format(ind+1))\n",
    "\n",
    "# create a new dataframe\n",
    "neighborhoods_venues_sorted = pd.DataFrame(columns=columns)\n",
    "neighborhoods_venues_sorted['Neighborhood'] = toronto_grouped['NeighborhoodName']\n",
    "\n",
    "for ind in np.arange(toronto_grouped.shape[0]):\n",
    "    neighborhoods_venues_sorted.iloc[ind, 1:] = return_most_common_venues(\n",
    "        toronto_grouped.iloc[ind, :], num_top_venues)\n",
    "\n",
    "neighborhoods_venues_sorted"
   ]
  },
  {
   "cell_type": "markdown",
   "metadata": {},
   "source": [
    "## 3. Cluster the Toronto Neighborhoods\n",
    "\n",
    "We will run k-means and cluster the neighborhoods into 5 clusters."
   ]
  },
  {
   "cell_type": "code",
   "execution_count": null,
   "metadata": {},
   "outputs": [],
   "source": [
    "# Set number of clusters\n",
    "k = 5\n",
    "\n",
    "# Drop the neighborhood name column so that each column contains only the feature set.\n",
    "toronto_grouped_clustering = toronto_grouped.drop('NeighborhoodName', 1)\n",
    "\n",
    "# Run k-means clustering\n",
    "kmeans = KMeans(n_clusters=k, random_state=0).fit(toronto_grouped_clustering)\n",
    "\n",
    "# Check cluster labels generated for each row in the dataframe\n",
    "kmeans.labels_[0:10] \n"
   ]
  },
  {
   "cell_type": "markdown",
   "metadata": {},
   "source": [
    "Now we will create a dataframe with the neighborhood information, top 10 common venues as well as the cluster labels."
   ]
  },
  {
   "cell_type": "code",
   "execution_count": null,
   "metadata": {},
   "outputs": [],
   "source": [
    "# Add clustering labels\n",
    "neighborhoods_venues_sorted.insert(0, 'Cluster Labels', kmeans.labels_)\n",
    "\n",
    "toronto_merged = toronto_data\n",
    "\n",
    "# Merge toronto_grouped with toronto_data to add latitude/longitude for each neighborhood\n",
    "toronto_merged = toronto_merged.join(neighborhoods_venues_sorted.set_index('Neighborhood'), on='Neighborhood')\n",
    "\n",
    "print(toronto_merged.shape)\n",
    "toronto_merged.head()"
   ]
  },
  {
   "cell_type": "markdown",
   "metadata": {},
   "source": [
    "#### Visualize the clusters"
   ]
  },
  {
   "cell_type": "code",
   "execution_count": null,
   "metadata": {},
   "outputs": [],
   "source": [
    "# Create a map instance\n",
    "map_toronto = folium.Map(\n",
    "    location=[location.latitude, location.longitude],\n",
    "    zoom_start=11)\n",
    "\n",
    "# Set color scheme for the clusters\n",
    "x = np.arange(k)\n",
    "ys = [i + x + (i*x)**2 for i in range(k)]\n",
    "colors_array = cm.rainbow(np.linspace(0, 1, len(ys)))\n",
    "rainbow = [colors.rgb2hex(i) for i in colors_array]\n",
    "\n",
    "# Add markers to the map\n",
    "markers_colors = []\n",
    "for lat, lon, poi, cluster in zip(\n",
    "        toronto_merged['Latitude'], toronto_merged['Longitude'],\n",
    "        toronto_merged['Neighborhood'], toronto_merged['Cluster Labels']):\n",
    "    label = folium.Popup(str(poi) + ' Cluster ' + str(cluster), parse_html=True)\n",
    "    folium.CircleMarker(\n",
    "        [lat, lon],\n",
    "        radius=5,\n",
    "        popup=label,\n",
    "        color=rainbow[cluster-1],\n",
    "        fill=True,\n",
    "        fill_color=rainbow[cluster-1],\n",
    "        fill_opacity=0.7).add_to(map_toronto)\n",
    "       \n",
    "map_toronto"
   ]
  },
  {
   "cell_type": "markdown",
   "metadata": {},
   "source": [
    "## 4. Examine the clusters\n",
    "\n",
    "Now let us examine the clusters and see how they differ from each other in terms of popular venues.\n",
    "\n",
    "#### Cluster 0"
   ]
  },
  {
   "cell_type": "code",
   "execution_count": null,
   "metadata": {},
   "outputs": [],
   "source": [
    "cluster_0 = toronto_merged.loc[toronto_merged['Cluster Labels'] == 0,\n",
    "                               toronto_merged.columns[\n",
    "                                   [2] + list(range(\n",
    "                                       5, toronto_merged.shape[1]))]]\n",
    "cluster_0"
   ]
  },
  {
   "cell_type": "code",
   "execution_count": null,
   "metadata": {},
   "outputs": [],
   "source": [
    "print(cluster_0.shape)"
   ]
  },
  {
   "cell_type": "markdown",
   "metadata": {},
   "source": [
    "#### Cluster 1"
   ]
  },
  {
   "cell_type": "code",
   "execution_count": null,
   "metadata": {},
   "outputs": [],
   "source": [
    "toronto_merged.loc[toronto_merged['Cluster Labels'] == 1,\n",
    "                   toronto_merged.columns[\n",
    "                       [2] + list(range(5, toronto_merged.shape[1]))]]\n"
   ]
  },
  {
   "cell_type": "markdown",
   "metadata": {},
   "source": [
    "#### Cluster 2"
   ]
  },
  {
   "cell_type": "code",
   "execution_count": null,
   "metadata": {},
   "outputs": [],
   "source": [
    "toronto_merged.loc[toronto_merged['Cluster Labels'] == 2,\n",
    "                   toronto_merged.columns[\n",
    "                       [2] + list(range(5, toronto_merged.shape[1]))]]\n"
   ]
  },
  {
   "cell_type": "markdown",
   "metadata": {},
   "source": [
    "#### Cluster 3"
   ]
  },
  {
   "cell_type": "code",
   "execution_count": null,
   "metadata": {},
   "outputs": [],
   "source": [
    "toronto_merged.loc[toronto_merged['Cluster Labels'] == 3,\n",
    "                   toronto_merged.columns[\n",
    "                       [2] + list(range(5, toronto_merged.shape[1]))]]\n"
   ]
  },
  {
   "cell_type": "markdown",
   "metadata": {},
   "source": [
    "#### Cluster 4"
   ]
  },
  {
   "cell_type": "code",
   "execution_count": null,
   "metadata": {
    "scrolled": true
   },
   "outputs": [],
   "source": [
    "toronto_merged.loc[toronto_merged['Cluster Labels'] == 4,\n",
    "                   toronto_merged.columns[\n",
    "                       [2] + list(range(5, toronto_merged.shape[1]))]]\n"
   ]
  },
  {
   "cell_type": "markdown",
   "metadata": {},
   "source": [
    "**Insights**: \n",
    "- There are 32 neighborhoods in the first cluster! It appears that coffee shops and cafes are very popular in the neighborhoods in this cluster and in general in Toronto!\n",
    "- The rest of the clusters are much smaller and coffee shops are not that common in those.\n",
    "- Out of the 5 clusters, 3 have only 1 neighborhood in them. These are the most distinct neighborhoods of all.\n",
    "- Cluster 4, which is the last cluster seems to be more suitable for outdoor activities with parks, trails, playgrounds, etc. amongst the top 10."
   ]
  },
  {
   "cell_type": "markdown",
   "metadata": {},
   "source": [
    "# Thank you!"
   ]
  }
 ],
 "metadata": {
  "kernelspec": {
   "display_name": "Python 3",
   "language": "python",
   "name": "python3"
  },
  "language_info": {
   "codemirror_mode": {
    "name": "ipython",
    "version": 3
   },
   "file_extension": ".py",
   "mimetype": "text/x-python",
   "name": "python",
   "nbconvert_exporter": "python",
   "pygments_lexer": "ipython3",
   "version": "3.7.6"
  }
 },
 "nbformat": 4,
 "nbformat_minor": 2
}
